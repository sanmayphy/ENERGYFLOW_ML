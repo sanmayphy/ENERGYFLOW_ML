{
 "cells": [
  {
   "cell_type": "code",
   "execution_count": 1,
   "metadata": {
    "collapsed": true
   },
   "outputs": [],
   "source": [
    "import os\n",
    "import sys\n",
    "import random\n",
    "\n",
    "import numpy as np\n",
    "import pandas as pd\n",
    "\n",
    "import h5py\n",
    "\n",
    "import matplotlib.pyplot as plt\n",
    "import matplotlib.mlab as mlab\n",
    "\n",
    "from tqdm import tqdm\n",
    "from itertools import chain\n",
    "\n",
    "import math\n",
    "\n",
    "import uproot "
   ]
  },
  {
   "cell_type": "code",
   "execution_count": 3,
   "metadata": {
    "collapsed": false
   },
   "outputs": [],
   "source": [
    "f25   = uproot.open('Epred_out_Position2to5.root')\n",
    "f510  = uproot.open('Epred_out_Position5to10.root')\n",
    "f1015 = uproot.open('Epred_out_Position10to15.root')\n",
    "f1520 = uproot.open('Epred_out_Position15to20.root')"
   ]
  },
  {
   "cell_type": "code",
   "execution_count": 4,
   "metadata": {
    "collapsed": true
   },
   "outputs": [],
   "source": [
    "h25 = f25['h_n_dR1']\n",
    "hPflow25 = f25['h_p_dR1']\n",
    "\n",
    "\n",
    "h510 = f510['h_n_dR1']\n",
    "hPflow510 = f510['h_p_dR1']\n",
    "\n",
    "\n",
    "h1015 = f1015['h_n_dR1']\n",
    "hPflow1015 = f1015['h_p_dR1']\n",
    "\n",
    "h1520 = f1520['h_n_dR1']\n",
    "hPflow1520 = f1520['h_p_dR1']"
   ]
  },
  {
   "cell_type": "code",
   "execution_count": 5,
   "metadata": {
    "collapsed": true
   },
   "outputs": [],
   "source": [
    "hist_25, bins_25     = h25.numpy()\n",
    "histPF_25, binsPF_25 = hPflow25.numpy()\n",
    "\n",
    "hist_510, bins_510     = h510.numpy()\n",
    "histPF_510, binsPF_510 = hPflow510.numpy()\n",
    "\n",
    "hist_1015, bins_1015     = h1015.numpy()\n",
    "histPF_1015, binsPF_1015 = hPflow1015.numpy()\n",
    "\n",
    "hist_1520, bins_1520     = h1520.numpy()\n",
    "histPF_1520, binsPF_1520 = hPflow1520.numpy()\n"
   ]
  },
  {
   "cell_type": "code",
   "execution_count": 8,
   "metadata": {
    "collapsed": false
   },
   "outputs": [
    {
     "data": {
      "image/png": "[encoded data removed]",
      "text/plain": [
       "<matplotlib.figure.Figure at 0x10abf39b0>"
      ]
     },
     "metadata": {},
     "output_type": "display_data"
    }
   ],
   "source": [
    "fig, axl = plt.subplots(1,4, figsize=(10,4))\n",
    "\n",
    "\n",
    "\n",
    "axl[0].hist(bins_25[:-1], bins_25,weights=hist_25,alpha=0.5, color='navy',label='CNN predictions')\n",
    "axl[0].hist(bins_25[:-1], binsPF_25,weights=histPF_25,alpha=0.5, color='g',label='Pflow predictions')\n",
    "axl[0].legend(loc='upper right',fontsize=10)\n",
    "axl[0].set_xlim([0,10])\n",
    "\n",
    "axl[1].hist(bins_510[:-1], bins_510,weights=hist_510,alpha=0.5, color='navy',label='CNN predictions')\n",
    "axl[1].hist(bins_510[:-1], binsPF_510,weights=histPF_510,alpha=0.5, color='g',label='Pflow predictions')\n",
    "axl[1].legend(loc='upper right',fontsize=10)\n",
    "axl[1].set_xlim([0,10])\n",
    "\n",
    "\n",
    "axl[2].hist(bins_1015[:-1], bins_1015,weights=hist_1015,alpha=0.5, color='navy',label='CNN predictions')\n",
    "axl[2].hist(bins_1015[:-1], binsPF_1015,weights=histPF_1015,alpha=0.5, color='g',label='Pflow predictions')\n",
    "axl[2].legend(loc='upper right',fontsize=10)\n",
    "axl[2].set_xlim([0,10])\n",
    "\n",
    "\n",
    "axl[3].hist(bins_1520[:-1], bins_1520,weights=hist_1520,alpha=0.5, color='navy',label='CNN predictions')\n",
    "axl[3].hist(bins_1520[:-1], binsPF_1520,weights=histPF_1520,alpha=0.5, color='g',label='Pflow predictions')\n",
    "axl[3].legend(loc='upper right',fontsize=10)\n",
    "axl[3].set_xlim([0,10])\n",
    "\n",
    "\n",
    "axl[0].set(xlabel='Distance', ylabel='Events')\n",
    "axl[1].set(xlabel='Distance', ylabel='')\n",
    "axl[2].set(xlabel='Distance', ylabel='')\n",
    "axl[3].set(xlabel='Distance', ylabel='')\n",
    "\n",
    "\n",
    "axl[0].set_title(\"2-5 GeV\")\n",
    "axl[1].set_title(\"5-10 GeV\")\n",
    "axl[2].set_title(\"10-15 GeV\")\n",
    "axl[3].set_title(\"15-20 GeV\")\n",
    "\n",
    "plt.tight_layout()\n",
    "plt.show()\n",
    "fig.savefig(\"figure_energyPaperPos.pdf\", bbox_inches='tight')"
   ]
  },
  {
   "cell_type": "code",
   "execution_count": null,
   "metadata": {
    "collapsed": true
   },
   "outputs": [],
   "source": []
  },
  {
   "cell_type": "code",
   "execution_count": null,
   "metadata": {
    "collapsed": true
   },
   "outputs": [],
   "source": []
  }
 ],
 "metadata": {
  "kernelspec": {
   "display_name": "Python 3",
   "language": "python",
   "name": "python3"
  },
  "language_info": {
   "codemirror_mode": {
    "name": "ipython",
    "version": 3
   },
   "file_extension": ".py",
   "mimetype": "text/x-python",
   "name": "python",
   "nbconvert_exporter": "python",
   "pygments_lexer": "ipython3",
   "version": "3.4.5"
  }
 },
 "nbformat": 4,
 "nbformat_minor": 2
}
