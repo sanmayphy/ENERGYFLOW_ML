{
 "cells": [
  {
   "cell_type": "code",
   "execution_count": 1,
   "metadata": {},
   "outputs": [
    {
     "name": "stdout",
     "output_type": "stream",
     "text": [
      "Welcome to JupyROOT 6.16/00\n"
     ]
    }
   ],
   "source": [
    "import ROOT\n",
    "import h5py\n",
    "import numpy as np"
   ]
  },
  {
   "cell_type": "code",
   "execution_count": 10,
   "metadata": {},
   "outputs": [],
   "source": [
    "#File Energy Calo\n",
    "f = h5py.File('../File_En/Outfile_CellInformation_HomDet_2to5GeV_FineGran128_V1.h5','r')\n",
    "#f = h5py.File('../File_En/Outfile_CellInformation_HomDet_15to20GeV_FineGran128_V1.h5','r')\n",
    "fN= h5py.File('../File_En/Outfile_MLPred_HomDet_2to5GeV_FineGran128_V1.h5','r')"
   ]
  },
  {
   "cell_type": "code",
   "execution_count": 11,
   "metadata": {},
   "outputs": [
    {
     "name": "stdout",
     "output_type": "stream",
     "text": [
      "16 18 93.62048422015823\n"
     ]
    }
   ],
   "source": [
    "L=f[\"RealRes_TotalEnergy_Layer3\"][13][0]\n",
    "for X in range(32):\n",
    "    for Y in range(32):\n",
    "        if L[X][Y]>5*17:\n",
    "            print(X+1, Y+1, L[X][Y])"
   ]
  },
  {
   "cell_type": "code",
   "execution_count": 12,
   "metadata": {},
   "outputs": [
    {
     "data": {
      "text/plain": [
       "<KeysViewHDF5 ['RealRes_NeutralEnergyPred_Layer1', 'RealRes_NeutralEnergyPred_Layer2', 'RealRes_NeutralEnergyPred_Layer3', 'RealRes_NeutralEnergyPred_Layer4', 'RealRes_NeutralEnergyPred_Layer5', 'RealRes_NeutralEnergyPred_Layer6']>"
      ]
     },
     "execution_count": 12,
     "metadata": {},
     "output_type": "execute_result"
    }
   ],
   "source": [
    "fN.keys()"
   ]
  },
  {
   "cell_type": "code",
   "execution_count": 13,
   "metadata": {},
   "outputs": [],
   "source": [
    "layers=[64,32,32,16,16,8]"
   ]
  },
  {
   "cell_type": "markdown",
   "metadata": {},
   "source": [
    "ev=123\n",
    "lay=1\n",
    "for X in range(64):\n",
    "    for Y in range(64):\n",
    "        NoiseT=f['RealRes_TotalEnergy_Layer'+str(lay)][ev][0]-f['RealRes_NeutralEnergy_Layer'+str(lay)][ev][0]-f['RealRes_ChargedEnergy_Layer'+str(lay)][ev][0]\n",
    "        Noise=f['RealRes_Noise_Layer'+str(lay)][ev][0]\n",
    "        A=NoiseT-Noise\n",
    "        if abs(A[X][Y])>0.01:\n",
    "            print(X, Y, A[X][Y], NoiseT[X][Y], Noise[X][Y])"
   ]
  },
  {
   "cell_type": "code",
   "execution_count": 15,
   "metadata": {},
   "outputs": [],
   "source": [
    "#Total Topoclusters\n",
    "gT = h5py.File('../File_Clust/Outfile_2to5GeV_TotalTopo.h5','r')\n",
    "#gT = h5py.File('../File_Clust/Outfile_15to20GeV_TotalTopo.h5','r')\n",
    "\n",
    "#gT=h5py.File('../File_Clust/A.h5','r')\n",
    "\n",
    "#Charged Topoclusters\n",
    "gCh = h5py.File('../File_Clust/Outfile_2to5GeV_ChargedTopo.h5','r')\n",
    "#gCh = h5py.File('../File_Clust/Outfile_15to20GeV_ChargedTopo.h5','r')"
   ]
  },
  {
   "cell_type": "code",
   "execution_count": 16,
   "metadata": {},
   "outputs": [],
   "source": [
    "#calorimeter struct\n",
    "import math\n",
    "\n",
    "TrDi=125.\n",
    "\n",
    "X0_ECAL = 3.897\n",
    "Lambda_int_HCAL = 17.438\n",
    "\n",
    "Total_ECAL_Length = 3 * X0_ECAL + 16 * X0_ECAL + 6 * X0_ECAL\n",
    "Total_HCAL_Length = 1.5 * Lambda_int_HCAL + 4.1 * Lambda_int_HCAL + 1.8 * Lambda_int_HCAL\n",
    "Total_Calo_Length = Total_ECAL_Length + Total_HCAL_Length + 1.0 # -- there is a 1 cm gap between ECAL & HCAL\n",
    "\n",
    "\n",
    "zpos_ECAL1 = -1 * Total_Calo_Length/2 + 3 * X0_ECAL/2\n",
    "zpos_ECAL2 = zpos_ECAL1 + 3 * X0_ECAL/2 + 16  * X0_ECAL/2\n",
    "zpos_ECAL3 = zpos_ECAL2 + 16 * X0_ECAL/2 + 6 * X0_ECAL/2\n",
    "\n",
    "zpos_GAP = zpos_ECAL3 + 6 * X0_ECAL/2 + 1/2\n",
    "\n",
    "zpos_HCAL1 = zpos_GAP + 1/2 + 1.5 * Lambda_int_HCAL/2\n",
    "zpos_HCAL2 = zpos_HCAL1 + 1.5 * Lambda_int_HCAL/2 + 4.1 * Lambda_int_HCAL/2\n",
    "zpos_HCAL3 = zpos_HCAL2 + 4.1 * Lambda_int_HCAL/2 + 1.8 * Lambda_int_HCAL/2\n",
    "\n",
    "layer_struct = {'layer1' : 64, 'layer2' : 32, 'layer3' : 32, 'layer4' : 16, 'layer5' : 16, 'layer6' : 8}\n",
    "\n",
    "def MakeTruthTrajectory(Theta, Phi, x_indx, y_indx) : \n",
    "\n",
    "    x_orig, y_orig = 0., 0.\n",
    "    \n",
    "    z_orig = -1 * (Total_Calo_Length/2 + 150.)\n",
    "\n",
    "    if(x_indx == 5 and y_indx == 5) : x_orig, y_orig   =  10.,  10.\n",
    "    if(x_indx == 5 and y_indx == -5) : x_orig, y_orig  =  10., -10.\n",
    "    if(x_indx == -5 and y_indx == 5) : x_orig, y_orig  = -10.,  10.\n",
    "    if(x_indx == -5 and y_indx == -5) : x_orig, y_orig = -10., -10.\n",
    "\n",
    "    layer1_x = x_orig + (zpos_ECAL1 - z_orig) * math.tan(Theta) * math.cos(Phi)\n",
    "    layer1_y = y_orig + (zpos_ECAL1 - z_orig) * math.tan(Theta) * math.sin(Phi)\n",
    "\n",
    "    layer2_x = x_orig + (zpos_ECAL2 - z_orig) * math.tan(Theta) * math.cos(Phi)\n",
    "    layer2_y = y_orig + (zpos_ECAL2 - z_orig) * math.tan(Theta) * math.sin(Phi)\n",
    "\n",
    "    layer3_x = x_orig + (zpos_ECAL3 - z_orig) * math.tan(Theta) * math.cos(Phi)\n",
    "    layer3_y = y_orig + (zpos_ECAL3 - z_orig) * math.tan(Theta) * math.sin(Phi)\n",
    "\n",
    "    layer4_x = x_orig + (zpos_HCAL1 - z_orig) * math.tan(Theta) * math.cos(Phi)\n",
    "    layer4_y = y_orig + (zpos_HCAL1 - z_orig) * math.tan(Theta) * math.sin(Phi)\n",
    "\n",
    "    layer5_x = x_orig + (zpos_HCAL2 - z_orig) * math.tan(Theta) * math.cos(Phi)\n",
    "    layer5_y = y_orig + (zpos_HCAL2 - z_orig) * math.tan(Theta) * math.sin(Phi)\n",
    "\n",
    "    layer6_x = x_orig + (zpos_HCAL3 - z_orig) * math.tan(Theta) * math.cos(Phi)\n",
    "    layer6_y = y_orig + (zpos_HCAL3 - z_orig) * math.tan(Theta) * math.sin(Phi)\n",
    "\n",
    "    CellIndexLayer = []\n",
    "\n",
    "    CellIndexLayer.append(  FindCellIndex( layer1_x, layer1_y, 'layer1' ) )\n",
    "    CellIndexLayer.append(  FindCellIndex( layer2_x, layer2_y, 'layer2' ) )\n",
    "    CellIndexLayer.append(  FindCellIndex( layer3_x, layer3_y, 'layer3' ) )\n",
    "    CellIndexLayer.append(  FindCellIndex( layer4_x, layer4_y, 'layer4' ) )\n",
    "    CellIndexLayer.append(  FindCellIndex( layer5_x, layer5_y, 'layer5' ) )\n",
    "    CellIndexLayer.append(  FindCellIndex( layer6_x, layer6_y, 'layer6' ) )\n",
    "\n",
    "    return np.array(CellIndexLayer)\n",
    "\n",
    "\n",
    "\n",
    "def FindCellIndex(tr_x, tr_y, layer_name) : \n",
    "        \n",
    "    x_idx = int( (tr_x + TrDi/2.)/TrDi * layer_struct[layer_name] )\n",
    "    y_idx = int( (tr_y + TrDi/2.)/TrDi * layer_struct[layer_name] )\n",
    "    \n",
    "    return np.array([x_idx, y_idx])\n",
    "\n"
   ]
  },
  {
   "cell_type": "code",
   "execution_count": 21,
   "metadata": {},
   "outputs": [],
   "source": [
    "def Count_Topo(gio, events,key):\n",
    "    Num_Topo=np.zeros(events)\n",
    "    Ne90 = np.zeros(10)\n",
    "    NN = []\n",
    "    print(\"starting loop\")\n",
    "    for ev in range(events):\n",
    "        if (ev+1)%100==0: print('still looping',ev)        \n",
    "            \n",
    "        \n",
    "        #sorted energies in topoclusters\n",
    "        N_Cl = -1\n",
    "        for lay in range(1,7):\n",
    "            Topo = gio[str(key)+str(lay)][ev]\n",
    "            M=np.amax(Topo)\n",
    "            #print(M)\n",
    "            if M>N_Cl:\n",
    "                N_Cl = M\n",
    "            \n",
    "        NN.append(int(N_Cl))\n",
    "        \n",
    "    return NN\n"
   ]
  },
  {
   "cell_type": "code",
   "execution_count": 22,
   "metadata": {},
   "outputs": [
    {
     "name": "stdout",
     "output_type": "stream",
     "text": [
      "starting loop\n",
      "starting loop\n"
     ]
    }
   ],
   "source": [
    "NTT=21#len(gT['TopoClusters1'])\n",
    "NCT=21#len(gCh['TopoClusters1'])\n",
    "\n",
    "N_ClusT=Count_Topo(gT, NTT,\"TopoClusters\" )\n",
    "N_ClusC=Count_Topo(gCh,NCT,\"TopoClusters\" )"
   ]
  },
  {
   "cell_type": "code",
   "execution_count": 24,
   "metadata": {},
   "outputs": [
    {
     "data": {
      "text/plain": [
       "([1, 2, 1, 1, 2, 1, 2, 2, 1, 3, 2, 2, 2, 3, 2, 2, 1, 2, 1, 1, 1],\n",
       " [1, 3, 1, 1, 2, 1, 1, 2, 1, 3, 2, 2, 3, 3, 2, 2, 1, 2, 1, 1, 1])"
      ]
     },
     "execution_count": 24,
     "metadata": {},
     "output_type": "execute_result"
    }
   ],
   "source": [
    "N_ClusT, N_ClusC"
   ]
  },
  {
   "cell_type": "markdown",
   "metadata": {},
   "source": [
    "for i, x in enumerate(N_ClusT):\n",
    "    if x>7: print(i)"
   ]
  },
  {
   "cell_type": "code",
   "execution_count": 25,
   "metadata": {},
   "outputs": [],
   "source": [
    "def histos(label):\n",
    "\n",
    "    h = []\n",
    "    \n",
    "    h_E_L0= ROOT.TH2D(\"L0\"+label,\"L0\"+label,64,1,65,64,1,65)\n",
    "    h_E_L1= ROOT.TH2D(\"L1\"+label,\"L1\"+label,32,1,33,32,1,33)\n",
    "    h_E_L2= ROOT.TH2D(\"L2\"+label,\"L2\"+label,32,1,33,32,1,33)\n",
    "    h_E_L3= ROOT.TH2D(\"L3\"+label,\"L3\"+label,16,1,17,16,1,17)\n",
    "    h_E_L4= ROOT.TH2D(\"L4\"+label,\"L4\"+label,16,1,17,16,1,17)\n",
    "    h_E_L5= ROOT.TH2D(\"L5\"+label,\"L5\"+label,8,1,9,8,1,9)\n",
    "    \n",
    "    h_E_L0.Reset()\n",
    "\n",
    "\n",
    "    h.append(h_E_L0)\n",
    "    h.append(h_E_L1)\n",
    "    h.append(h_E_L2)\n",
    "    h.append(h_E_L3)\n",
    "    h.append(h_E_L4)\n",
    "    h.append(h_E_L5)\n",
    "\n",
    "    return h\n"
   ]
  },
  {
   "cell_type": "code",
   "execution_count": 33,
   "metadata": {},
   "outputs": [],
   "source": [
    "import math\n",
    "\n",
    "def EventDisplay(part, Clus, ev, n_clus):\n",
    "    \n",
    "    h_E_tot = histos( str(part) + \"_\" + str(Clus) + \"En\" )\n",
    "\n",
    "    i = 0\n",
    "    #print(\"A\")\n",
    "    h_clus= [ histos( str(part) + \"_\" + str(Clus) + \"Topo_Clus\"+str(i) ) for i in range(n_clus)]\n",
    "\n",
    "    #print(len(h_clus))\n",
    "    h_Traj= histos( \"Mark_Traj\" + str(ev) )\n",
    "    \n",
    "    layers=[64,32,32,16,16,8]\n",
    "\n",
    "    C1=f[\"Trk_Theta\"]\n",
    "    C2=f[\"Trk_Phi\"]\n",
    "    C3=f[\"Trk_X_indx\"]\n",
    "    C4=f[\"Trk_Y_indx\"]\n",
    "    \n",
    "    Traj_Mark = MakeTruthTrajectory(C1[ev], C2[ev], C3[ev], C4[ev])\n",
    "\n",
    "    print(C1[ev], C2[ev], C3[ev], C4[ev])\n",
    "    \n",
    "    \n",
    "    for lay in range(1,7):\n",
    "        \n",
    "        if Clus==\"Total\":\n",
    "            #Tot_En_Distr=f['RealRes_'+str(part)+'Energy_Layer'+str(lay)][ev][0]\n",
    "            Tot_En_Distr=fN['RealRes_NeutralEnergyPred_Layer'+str(lay)][ev][0]\n",
    "            Clust_Cell=gT[\"TopoClusters\"+str(lay)][ev][0]\n",
    "            \n",
    "        if Clus==\"Charged\":\n",
    "            Tot_En_Distr=f['RealRes_Noise_Layer'+str(lay)][ev][0]+f['RealRes_ChargedEnergy_Layer'+str(lay)][ev][0]\n",
    "            Clust_Cell=gCh[\"TopoClusters\"+str(lay)][ev][0]\n",
    "            \n",
    "        h_Traj[lay-1].SetBinContent(int(Traj_Mark[lay-1][0])+1 , int(Traj_Mark[lay-1][1])+1 ,10)\n",
    "        \n",
    "        for X in range(layers[lay-1]):\n",
    "            for Y in range(layers[lay-1]):\n",
    "                if Tot_En_Distr[X][Y]>1:\n",
    "                    h_E_tot[lay-1].SetBinContent(X+1,Y+1, Tot_En_Distr[X][Y])\n",
    "                if Tot_En_Distr[X][Y]<=1:\n",
    "                    h_E_tot[lay-1].SetBinContent(X+1,Y+1, 1)\n",
    "                TopoI=int(Clust_Cell[X][Y])\n",
    "                if TopoI!=0:\n",
    "                    h_clus[TopoI-1][lay-1].SetBinContent(X+1,Y+1,100)\n",
    "\n",
    "    layers=[64,32,32,16, 16, 8]\n",
    "    col=[ 0, 2, 1, 3, 6,  7 ,8, 9, 11]\n",
    "    #col=[i for i in range(n_clus)]\n",
    "    can=ROOT.TCanvas( \"ev_\"+str(ev), \"ev_\"+str(ev),1600,900);\n",
    "    #can.SetLogz()\n",
    "    can.Divide(3,2);\n",
    "    for j in range(6):\n",
    "        can.cd(j+1)\n",
    "        ROOT.gPad.SetLogz()\n",
    "        ROOT.gStyle.SetOptStat(0)\n",
    "        h_E_tot[j].Draw(\"colz\")\n",
    "\n",
    "        for cl in range(n_clus):\n",
    "            #print(cl,j,n_clus[ev])\n",
    "            h_clus[cl][j].SetLineColor(col[cl])\n",
    "            h_clus[cl][j].SetFillColor(col[cl])\n",
    "            h_clus[cl][j].SetLineWidth(3)            \n",
    "            h_clus[cl][j].SetContour(1);\n",
    "            h_clus[cl][j].SetMarkerStyle(2)\n",
    "            h_clus[cl][j].SetMarkerColor(col[cl])\n",
    "            h_clus[cl][j].SetMarkerSize(0.5)\n",
    "            \n",
    "            h_clus[cl][j].Draw(\"cont3 same\");\n",
    "\n",
    "        h_Traj[j].SetMarkerStyle(3)\n",
    "        h_Traj[j].SetMarkerColor(1)\n",
    "        h_Traj[j].SetMarkerSize(10)\n",
    "        h_Traj[j].SetFillColor(1)\n",
    "        h_Traj[j].SetLineColor(1)\n",
    "        h_Traj[j].Draw(\"box same\")\n",
    "    \n",
    "    can.Print(\"../DATA_PROCESSING/ED2to5/ED_\"+str(ev)+\"Predicted\"+str(part)+\"Energy_\"+str(Clus)+\"Topo.png\")"
   ]
  },
  {
   "cell_type": "code",
   "execution_count": 34,
   "metadata": {},
   "outputs": [
    {
     "name": "stdout",
     "output_type": "stream",
     "text": [
      "Number of topoclusters 1\n",
      "0.037165474 1.7946947 -5 -5\n",
      "Number of topoclusters 2\n",
      "0.04294123 4.265729 -5 -5\n",
      "Number of topoclusters 1\n",
      "0.041663364 1.6062237 5 5\n",
      "Number of topoclusters 1\n",
      "0.0390678 4.2864347 5 -5\n",
      "Number of topoclusters 2\n",
      "0.038271055 4.022101 5 -5\n",
      "Number of topoclusters 1\n",
      "0.045260094 1.1867714 5 -5\n",
      "Number of topoclusters 2\n",
      "0.046984337 1.9857713 5 5\n",
      "Number of topoclusters 2\n",
      "0.0329515 2.9208064 -5 -5\n",
      "Number of topoclusters 1\n",
      "0.038179368 4.957861 5 -5\n",
      "Number of topoclusters 3\n",
      "0.036752 1.8049322 5 -5\n",
      "Number of topoclusters 2\n",
      "0.03989552 4.9450426 -5 -5\n",
      "Number of topoclusters 2\n",
      "0.03455342 0.092659965 5 -5\n",
      "Number of topoclusters 2\n",
      "0.033246808 2.6276157 -5 -5\n",
      "Number of topoclusters 3\n",
      "0.037934642 4.983534 -5 -5\n",
      "Number of topoclusters 2\n",
      "0.034282487 6.094527 5 -5\n",
      "Number of topoclusters 2\n",
      "0.039307315 4.5242863 5 -5\n",
      "Number of topoclusters 1\n",
      "0.035543896 3.4913812 5 5\n",
      "Number of topoclusters 2\n",
      "0.04712021 3.5867937 -5 -5\n",
      "Number of topoclusters 1\n",
      "0.03295445 0.58733034 -5 -5\n",
      "Number of topoclusters 1\n",
      "0.035473756 4.954159 5 -5\n"
     ]
    },
    {
     "name": "stderr",
     "output_type": "stream",
     "text": [
      "Info in <TCanvas::Print>: png file ../DATA_PROCESSING/ED2to5/ED_0PredictedNeutralEnergy_TotalTopo.png has been created\n",
      "Info in <TCanvas::Print>: png file ../DATA_PROCESSING/ED2to5/ED_1PredictedNeutralEnergy_TotalTopo.png has been created\n",
      "Info in <TCanvas::Print>: png file ../DATA_PROCESSING/ED2to5/ED_2PredictedNeutralEnergy_TotalTopo.png has been created\n",
      "Info in <TCanvas::Print>: png file ../DATA_PROCESSING/ED2to5/ED_3PredictedNeutralEnergy_TotalTopo.png has been created\n",
      "Info in <TCanvas::Print>: png file ../DATA_PROCESSING/ED2to5/ED_4PredictedNeutralEnergy_TotalTopo.png has been created\n",
      "Info in <TCanvas::Print>: png file ../DATA_PROCESSING/ED2to5/ED_5PredictedNeutralEnergy_TotalTopo.png has been created\n",
      "Info in <TCanvas::Print>: png file ../DATA_PROCESSING/ED2to5/ED_6PredictedNeutralEnergy_TotalTopo.png has been created\n",
      "Info in <TCanvas::Print>: png file ../DATA_PROCESSING/ED2to5/ED_7PredictedNeutralEnergy_TotalTopo.png has been created\n",
      "Info in <TCanvas::Print>: png file ../DATA_PROCESSING/ED2to5/ED_8PredictedNeutralEnergy_TotalTopo.png has been created\n",
      "Info in <TCanvas::Print>: png file ../DATA_PROCESSING/ED2to5/ED_9PredictedNeutralEnergy_TotalTopo.png has been created\n",
      "Info in <TCanvas::Print>: png file ../DATA_PROCESSING/ED2to5/ED_10PredictedNeutralEnergy_TotalTopo.png has been created\n",
      "Info in <TCanvas::Print>: png file ../DATA_PROCESSING/ED2to5/ED_11PredictedNeutralEnergy_TotalTopo.png has been created\n",
      "Info in <TCanvas::Print>: png file ../DATA_PROCESSING/ED2to5/ED_12PredictedNeutralEnergy_TotalTopo.png has been created\n",
      "Info in <TCanvas::Print>: png file ../DATA_PROCESSING/ED2to5/ED_13PredictedNeutralEnergy_TotalTopo.png has been created\n",
      "Info in <TCanvas::Print>: png file ../DATA_PROCESSING/ED2to5/ED_14PredictedNeutralEnergy_TotalTopo.png has been created\n",
      "Info in <TCanvas::Print>: png file ../DATA_PROCESSING/ED2to5/ED_15PredictedNeutralEnergy_TotalTopo.png has been created\n",
      "Info in <TCanvas::Print>: png file ../DATA_PROCESSING/ED2to5/ED_16PredictedNeutralEnergy_TotalTopo.png has been created\n",
      "Info in <TCanvas::Print>: png file ../DATA_PROCESSING/ED2to5/ED_17PredictedNeutralEnergy_TotalTopo.png has been created\n",
      "Info in <TCanvas::Print>: png file ../DATA_PROCESSING/ED2to5/ED_18PredictedNeutralEnergy_TotalTopo.png has been created\n",
      "Info in <TCanvas::Print>: png file ../DATA_PROCESSING/ED2to5/ED_19PredictedNeutralEnergy_TotalTopo.png has been created\n"
     ]
    }
   ],
   "source": [
    "for EV in range(0,20):\n",
    "    print(\"Number of topoclusters\", N_ClusT[EV])\n",
    "    EventDisplay(\"Neutral\", \"Total\",EV, N_ClusT[EV])"
   ]
  },
  {
   "cell_type": "code",
   "execution_count": null,
   "metadata": {},
   "outputs": [],
   "source": []
  }
 ],
 "metadata": {
  "kernelspec": {
   "display_name": "Python 3",
   "language": "python",
   "name": "python3"
  },
  "language_info": {
   "codemirror_mode": {
    "name": "ipython",
    "version": 3
   },
   "file_extension": ".py",
   "mimetype": "text/x-python",
   "name": "python",
   "nbconvert_exporter": "python",
   "pygments_lexer": "ipython3",
   "version": "3.7.3"
  }
 },
 "nbformat": 4,
 "nbformat_minor": 2
}
