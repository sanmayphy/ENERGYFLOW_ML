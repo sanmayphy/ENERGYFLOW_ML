{
 "cells": [
  {
   "cell_type": "code",
   "execution_count": 1,
   "metadata": {},
   "outputs": [
    {
     "name": "stdout",
     "output_type": "stream",
     "text": [
      "Welcome to JupyROOT 6.16/00\n"
     ]
    }
   ],
   "source": [
    "import ROOT\n",
    "import EventDisplay\n",
    "import h5py\n",
    "from sys import exit\n",
    "import random\n",
    "from array import array\n",
    "import numpy as np"
   ]
  },
  {
   "cell_type": "code",
   "execution_count": 2,
   "metadata": {},
   "outputs": [],
   "source": [
    "f = h5py.File('../Outfile_CellInformation_HomDet_2to5GeV.h5','r')"
   ]
  },
  {
   "cell_type": "code",
   "execution_count": 17,
   "metadata": {},
   "outputs": [],
   "source": [
    "#topocluster file of Total energy 1nearest \n",
    "gT = h5py.File('../DATA_PROCESSING/Outfile_TopoClusterTotal.h5','r')\n",
    "#topocluster file of Total energy 2nearest\n",
    "gTA = h5py.File('../DATA_PROCESSING/Outfile_TopoClusterTotalAtl.h5','r')\n",
    "#topo charged\n",
    "#gCh = h5py.File('../DATA_PROCESSING/Outfile_TopoClusterTotalAtlCh.h5','r')"
   ]
  },
  {
   "cell_type": "code",
   "execution_count": 10,
   "metadata": {},
   "outputs": [],
   "source": [
    "def histos(label):\n",
    "\n",
    "    h = []\n",
    "    \n",
    "    h_E_L0= ROOT.TH2D(\"h_E_L0\"+label,\"h_E_L0\"+label,32,1,33,32,1,33)\n",
    "    h_E_L1= ROOT.TH2D(\"h_E_L1\"+label,\"h_E_L1\"+label,64,1,65,64,1,65)\n",
    "    h_E_L2= ROOT.TH2D(\"h_E_L2\"+label,\"h_E_L2\"+label,32,1,33,32,1,33)\n",
    "    h_E_L3= ROOT.TH2D(\"h_E_L3\"+label,\"h_E_L3\"+label,16,1,17,16,1,17)\n",
    "    h_E_L4= ROOT.TH2D(\"h_E_L4\"+label,\"h_E_L4\"+label,16,1,17,16,1,17)\n",
    "    h_E_L5= ROOT.TH2D(\"h_E_L5\"+label,\"h_E_L5\"+label,8,1,9,8,1,9)\n",
    "    \n",
    "    h_E_L0.Reset()\n",
    "\n",
    "\n",
    "    h.append(h_E_L0)\n",
    "    h.append(h_E_L1)\n",
    "    h.append(h_E_L2)\n",
    "    h.append(h_E_L3)\n",
    "    h.append(h_E_L4)\n",
    "    h.append(h_E_L5)\n",
    "\n",
    "    return h\n"
   ]
  },
  {
   "cell_type": "code",
   "execution_count": 11,
   "metadata": {},
   "outputs": [],
   "source": [
    "def Count_Topo(gio, events, types):\n",
    "    Num_Topo=np.zeros(events)\n",
    "    Ne90 = np.zeros(10)\n",
    "    NN = []\n",
    "    print(\"starting loop\")\n",
    "    for ev in range(events):\n",
    "        if (ev+1)%1000==0: print('still looping',ev)        \n",
    "            \n",
    "        \n",
    "        #sorted energies in topoclusters\n",
    "        N_Cl = -1\n",
    "        for lay in range(1,6):\n",
    "            Topo = gio['TopoClusters'+str(lay)][ev]\n",
    "            if np.amax(Topo)>N_Cl:\n",
    "                N_Cl = np.amax(Topo)\n",
    "            \n",
    "        NN.append(int(N_Cl))\n",
    "        \n",
    "    return NN\n"
   ]
  },
  {
   "cell_type": "code",
   "execution_count": 7,
   "metadata": {},
   "outputs": [],
   "source": [
    "\n",
    "\n",
    "\n",
    "#calorimeter structure\n",
    "import math\n",
    "\n",
    "X0_ECAL = 0.5 + 14.0\n",
    "Lambda_int = 16.8 + 79.4\n",
    "\n",
    "\n",
    "Total_ECAL_Length = 3 * X0_ECAL + 16 * X0_ECAL + 6 * X0_ECAL\n",
    "Total_HCAL_Length = 1.5 * Lambda_int + 4.1 * Lambda_int + 1.8 * Lambda_int\n",
    "Total_Calo_Length = Total_ECAL_Length + Total_HCAL_Length #+ 1.0 # -- there is a 1 cm gap between ECAL & HCAL\n",
    "\n",
    "zpos_ECAL1 = -1 * Total_Calo_Length/2 + 3 * X0_ECAL/2\n",
    "zpos_ECAL2 = -1 * Total_Calo_Length/2 + 3 * X0_ECAL + 16 * X0_ECAL\n",
    "zpos_ECAL3 = -1 * Total_Calo_Length/2 + 3 * X0_ECAL + 16 * X0_ECAL + 6 * X0_ECAL\n",
    "\n",
    "zpos_HCAL1 = -1 * Total_Calo_Length/2 + 3 * X0_ECAL + 16 * X0_ECAL + 6 * X0_ECAL + 1 + 1.5 * Lambda_int/2\n",
    "zpos_HCAL2 = -1 * Total_Calo_Length/2 + 3 * X0_ECAL + 16 * X0_ECAL + 6 * X0_ECAL + 1 + 1.5 * Lambda_int + 4.1 * Lambda_int/2\n",
    "zpos_HCAL3 = -1 * Total_Calo_Length/2 + 3 * X0_ECAL + 16 * X0_ECAL + 6 * X0_ECAL + 1 + 1.5 * Lambda_int + 4.1 * Lambda_int + 1.8 * Lambda_int/2\n",
    "\n",
    "layer_struct = {'layer1' : 32, 'layer2' : 64, 'layer3' : 32, 'layer4' : 16, 'layer5' : 16, 'layer6' : 8}\n",
    "\n",
    "\n",
    "#find trajectory \n",
    "def MakeTruthTrajectory(Theta, Phi, x_indx, y_indx) : \n",
    "\n",
    "    x_orig, y_orig = 0., 0.\n",
    "    z_orig = -1 * (Total_Calo_Length/2 + 250)\n",
    "\n",
    "    if(x_indx == 5 and y_indx == 5) : x_orig, y_orig   =  20.,  20.\n",
    "    if(x_indx == 5 and y_indx == -5) : x_orig, y_orig  =  20., -20.\n",
    "    if(x_indx == -5 and y_indx == 5) : x_orig, y_orig  = -20.,  20.\n",
    "    if(x_indx == -5 and y_indx == -5) : x_orig, y_orig = -20., -20.\n",
    "\n",
    "    layer1_x = x_orig + (zpos_ECAL1 - z_orig) * math.tan(Theta) * math.cos(Phi)\n",
    "    layer1_y = y_orig + (zpos_ECAL1 - z_orig) * math.tan(Theta) * math.sin(Phi)\n",
    "\n",
    "    layer2_x = x_orig + (zpos_ECAL2 - z_orig) * math.tan(Theta) * math.cos(Phi)\n",
    "    layer2_y = y_orig + (zpos_ECAL2 - z_orig) * math.tan(Theta) * math.sin(Phi)\n",
    "\n",
    "    layer3_x = x_orig + (zpos_ECAL3 - z_orig) * math.tan(Theta) * math.cos(Phi)\n",
    "    layer3_y = y_orig + (zpos_ECAL3 - z_orig) * math.tan(Theta) * math.sin(Phi)\n",
    "\n",
    "    layer4_x = x_orig + (zpos_HCAL1 - z_orig) * math.tan(Theta) * math.cos(Phi)\n",
    "    layer4_y = y_orig + (zpos_HCAL1 - z_orig) * math.tan(Theta) * math.sin(Phi)\n",
    "\n",
    "    layer5_x = x_orig + (zpos_HCAL2 - z_orig) * math.tan(Theta) * math.cos(Phi)\n",
    "    layer5_y = y_orig + (zpos_HCAL2 - z_orig) * math.tan(Theta) * math.sin(Phi)\n",
    "\n",
    "    layer6_x = x_orig + (zpos_HCAL3 - z_orig) * math.tan(Theta) * math.cos(Phi)\n",
    "    layer6_y = y_orig + (zpos_HCAL3 - z_orig) * math.tan(Theta) * math.sin(Phi)\n",
    "\n",
    "    CellIndexLayer = []\n",
    "\n",
    "    CellIndexLayer.append(  FindCellIndex(layer1_x, layer1_y, 'layer1') )\n",
    "    CellIndexLayer.append(  FindCellIndex(layer2_x, layer2_y, 'layer2') )\n",
    "    CellIndexLayer.append(  FindCellIndex(layer3_x, layer3_y, 'layer3') )\n",
    "    CellIndexLayer.append(  FindCellIndex(layer4_x, layer4_y, 'layer4') )\n",
    "    CellIndexLayer.append(  FindCellIndex(layer5_x, layer5_y, 'layer5') )\n",
    "    CellIndexLayer.append(  FindCellIndex(layer6_x, layer6_y, 'layer6') )\n",
    "\n",
    "    return np.array(CellIndexLayer)\n",
    "\n",
    "def FindCellIndex(tr_x, tr_y, layer_name): \n",
    "    \n",
    "    # out_image = np.zeros( [layer_struct[layer_name], layer_struct[layer_name]] )\n",
    "    \n",
    "    x_idx = int(  (tr_x+125)/250 * layer_struct[layer_name] )\n",
    "    y_idx = int(  (tr_y+125)/250 * layer_struct[layer_name]  )\n",
    "    \n",
    "    return np.array([x_idx, y_idx])\n",
    "\n",
    "\n"
   ]
  },
  {
   "cell_type": "code",
   "execution_count": 25,
   "metadata": {},
   "outputs": [],
   "source": [
    "\n",
    "def EventDisplay(EN_F, CL_F, ev, part, n_clus):\n",
    "    h_E_tot = histos(\"Etot_ev_\"+str(ev))\n",
    "    i = 0\n",
    "    \n",
    "    h_clus= [ histos(\"Ev_\"+str(ev)+'Clust'+str(i)) for i in range(n_clus[ev])]\n",
    "    #h_E_tot_sup = histos(\"Etot_ev_\"+str(ev))\n",
    "\n",
    "    h_Traj= histos(\"Mark_Traj\"+str(ev))\n",
    "    \n",
    "    layers=[32,64,32,16,16,8]\n",
    "\n",
    "    C3=f[\"Trk_X_indx\"]\n",
    "    C4=f[\"Trk_Y_indx\"]\n",
    "    C2=f[\"Trk_Phi\"]\n",
    "    C1=f[\"Trk_Theta\"]\n",
    "\n",
    "    Traj_Mark=MakeTruthTrajectory(C1[ev], C2[ev], C3[ev], C4[ev])\n",
    "    #print(Traj_Mark)\n",
    "    \n",
    "    for lay in range(1,7):\n",
    "        #print(lay)\n",
    "        Tot_En_Distr=EN_F['RealRes_'+str(part)+'Energy_Layer'+str(lay)][ev][0]\n",
    "        Clust_Cell=CL_F['TopoClusters'+str(lay)][ev][0]\n",
    "        \n",
    "        h_Traj[lay-1].SetBinContent(int(Traj_Mark[lay-1][0])+1 , int(Traj_Mark[lay-1][1])+1 ,10)\n",
    "        \n",
    "        for X in range(layers[lay-1]):\n",
    "            for Y in range(layers[lay-1]):\n",
    "                if Tot_En_Distr[X][Y]>1:\n",
    "                    #print(X+1,Y+1,Tot_En_Distr[X][Y])\n",
    "                    h_E_tot[lay-1].SetBinContent(X+1,Y+1, Tot_En_Distr[X][Y])\n",
    "                else:\n",
    "                    h_E_tot[lay-1].SetBinContent(X+1,Y+1, 1)\n",
    "                TopoI=int(Clust_Cell[X][Y])\n",
    "                if TopoI!=0:\n",
    "                    h_clus[TopoI-1][lay-1].SetBinContent(X+1,Y+1,1)\n",
    "                    #h_E_tot_sup[lay-1].SetBinContent(X+1,Y+1, Tot_En_Distr[X][Y])\n",
    "\n",
    "\n",
    "\n",
    "    layers=[32,64,32,16, 16, 8]\n",
    "    col=[ 2,  7 ,8, 9, 11, 0, 3]\n",
    "    can=ROOT.TCanvas( \"ev_\"+str(ev), \"ev_\"+str(ev),1600,900);\n",
    "    can.SetLogz()\n",
    "    can.Divide(3,2);\n",
    "    for j in range(6):\n",
    "        can.cd(j+1)\n",
    "        ROOT.gPad.SetLogz()\n",
    "        ROOT.gStyle.SetOptStat(0)\n",
    "        h_E_tot[j].Draw(\"colz\")\n",
    "\n",
    "        # print \"proton n=\",t+1, \" in layer:\",j,\"h_l max = \",h_l.GetMaximum(),\" max h[0][1]\",  h_l[0][1].GetMaximum()                                                                                       \n",
    "        for cl in range(n_clus[ev]):\n",
    "            h_clus[cl][j].SetLineColor(cl)\n",
    "            h_clus[cl][j].SetFillColor(col[cl])\n",
    "            h_clus[cl][j].SetLineWidth(1)            \n",
    "            h_clus[cl][j].SetContour(1);\n",
    "            h_clus[cl][j].SetMarkerStyle(2)\n",
    "            h_clus[cl][j].SetMarkerColor(cl)\n",
    "            h_clus[cl][j].SetMarkerSize(0.4)\n",
    "            #h_clus[cl][j].SetFillColorAlpha(cl, 0.5)\n",
    "            \n",
    "            h_clus[cl][j].Draw(\"cont3 same\");\n",
    "        h_Traj[j].SetMarkerStyle(3)\n",
    "        h_Traj[j].SetMarkerColor(1)\n",
    "        h_Traj[j].SetMarkerSize(10)\n",
    "        h_Traj[j].SetFillColor(1)\n",
    "        h_Traj[j].SetLineColor(1)\n",
    "        h_Traj[j].Draw(\"box same\")\n",
    "\n",
    "\n",
    "    #can.Update();\n",
    "    can.Print(\"Event_\"+str(ev)+\"_Display\"+str(part)+\" - 1N.png\")"
   ]
  },
  {
   "cell_type": "code",
   "execution_count": 30,
   "metadata": {},
   "outputs": [
    {
     "name": "stdout",
     "output_type": "stream",
     "text": [
      "starting loop\n",
      "still looping 999\n",
      "starting loop\n",
      "still looping 999\n"
     ]
    }
   ],
   "source": [
    "N_Ev=len(gT['TopoClusters1'])\n",
    "\n",
    "N_ClusT=Count_Topo(gT, N_Ev, \"Total\")\n",
    "N_ClusTA=Count_Topo(gTA, N_Ev, \"Total\")\n"
   ]
  },
  {
   "cell_type": "code",
   "execution_count": 29,
   "metadata": {},
   "outputs": [
    {
     "name": "stdout",
     "output_type": "stream",
     "text": [
      "4\n"
     ]
    },
    {
     "name": "stderr",
     "output_type": "stream",
     "text": [
      "Info in <TCanvas::Print>: png file Event_3_DisplayCharged - 1N.png has been created\n"
     ]
    }
   ],
   "source": [
    "print(N_ClusT[3])\n",
    "EventDisplay(f,gT,3,\"Total\", N_ClusT)"
   ]
  },
  {
   "cell_type": "code",
   "execution_count": null,
   "metadata": {},
   "outputs": [],
   "source": []
  },
  {
   "cell_type": "code",
   "execution_count": null,
   "metadata": {},
   "outputs": [],
   "source": []
  }
 ],
 "metadata": {
  "kernelspec": {
   "display_name": "Python 3",
   "language": "python",
   "name": "python3"
  },
  "language_info": {
   "codemirror_mode": {
    "name": "ipython",
    "version": 3
   },
   "file_extension": ".py",
   "mimetype": "text/x-python",
   "name": "python",
   "nbconvert_exporter": "python",
   "pygments_lexer": "ipython3",
   "version": "3.7.3"
  }
 },
 "nbformat": 4,
 "nbformat_minor": 2
}
