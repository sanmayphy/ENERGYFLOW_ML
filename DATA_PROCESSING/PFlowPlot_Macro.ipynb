{
 "cells": [
  {
   "cell_type": "code",
   "execution_count": 3,
   "metadata": {
    "collapsed": false
   },
   "outputs": [],
   "source": [
    "import os\n",
    "import sys\n",
    "import random\n",
    "\n",
    "import numpy as np\n",
    "import pandas as pd\n",
    "\n",
    "import h5py\n",
    "\n",
    "import matplotlib.pyplot as plt\n",
    "import matplotlib.mlab as mlab\n",
    "\n",
    "from tqdm import tqdm\n",
    "from itertools import chain\n",
    "\n",
    "import math\n",
    "\n",
    "import uproot "
   ]
  },
  {
   "cell_type": "code",
   "execution_count": 4,
   "metadata": {
    "collapsed": true
   },
   "outputs": [],
   "source": [
    "f25   = uproot.open('Epred_out2to5.root')\n",
    "f510  = uproot.open('Epred_out5to10.root')\n",
    "f1015 = uproot.open('Epred_out10to15.root')\n",
    "f1520 = uproot.open('Epred_out15to20.root')"
   ]
  },
  {
   "cell_type": "code",
   "execution_count": 11,
   "metadata": {
    "collapsed": false
   },
   "outputs": [
    {
     "data": {
      "text/plain": [
       "[b'h_NN;1',\n",
       " b'h_Pflow;1',\n",
       " b'h_Pflownew;1',\n",
       " b'h_rat;1',\n",
       " b'h_Energy;1',\n",
       " b'h_Eneutral;1',\n",
       " b'h_Epred_prof_tot;1']"
      ]
     },
     "execution_count": 11,
     "metadata": {},
     "output_type": "execute_result"
    }
   ],
   "source": [
    "f25.keys()\n",
    "#f510.keys()\n",
    "#f1015.keys()\n",
    "#f1520.keys()"
   ]
  },
  {
   "cell_type": "code",
   "execution_count": null,
   "metadata": {
    "collapsed": false
   },
   "outputs": [],
   "source": []
  },
  {
   "cell_type": "code",
   "execution_count": 15,
   "metadata": {
    "collapsed": false
   },
   "outputs": [],
   "source": [
    "h25 = f25['h_NN']\n",
    "hPflow25 = f25['h_Pflownew']\n",
    "\n",
    "\n",
    "h510 = f510['h_NN']\n",
    "hPflow510 = f510['h_Pflownew']\n",
    "\n",
    "\n",
    "h1015 = f1015['h_NN']\n",
    "hPflow1015 = f1015['h_Pflownew']\n",
    "\n",
    "h1520 = f1520['h_NN']\n",
    "hPflow1520 = f1520['h_Pflownew']"
   ]
  },
  {
   "cell_type": "code",
   "execution_count": null,
   "metadata": {
    "collapsed": false
   },
   "outputs": [],
   "source": []
  },
  {
   "cell_type": "code",
   "execution_count": 16,
   "metadata": {
    "collapsed": true
   },
   "outputs": [],
   "source": [
    "hist_25, bins_25     = h25.numpy()\n",
    "histPF_25, binsPF_25 = hPflow25.numpy()\n",
    "\n",
    "hist_510, bins_510     = h510.numpy()\n",
    "histPF_510, binsPF_510 = hPflow510.numpy()\n",
    "\n",
    "hist_1015, bins_1015     = h1015.numpy()\n",
    "histPF_1015, binsPF_1015 = hPflow1015.numpy()\n",
    "\n",
    "hist_1520, bins_1520     = h1520.numpy()\n",
    "histPF_1520, binsPF_1520 = hPflow1520.numpy()\n",
    "\n"
   ]
  },
  {
   "cell_type": "code",
   "execution_count": 101,
   "metadata": {
    "collapsed": false
   },
   "outputs": [],
   "source": [
    "#hist_PF, binsPF = hPflow.numpy()"
   ]
  },
  {
   "cell_type": "code",
   "execution_count": 17,
   "metadata": {
    "collapsed": false
   },
   "outputs": [],
   "source": [
    "#hist_E, bins.shape"
   ]
  },
  {
   "cell_type": "code",
   "execution_count": 52,
   "metadata": {
    "collapsed": false,
    "scrolled": true
   },
   "outputs": [
    {
     "data": {
      "image/png": "[encoded data removed]",
      "text/plain": [
       "<matplotlib.figure.Figure at 0x10b637940>"
      ]
     },
     "metadata": {},
     "output_type": "display_data"
    }
   ],
   "source": [
    "fig, axl = plt.subplots(1,4, figsize=(10,4))\n",
    "\n",
    "\n",
    "\n",
    "axl[0].hist(bins_25[:-1], bins_25,weights=hist_25,alpha=0.5, color='navy',label='CNN predictions')\n",
    "axl[0].hist(bins_25[:-1], binsPF_25,weights=histPF_25,alpha=0.5, color='g',label='Pflow predictions')\n",
    "axl[0].legend(loc='upper right',fontsize=10)\n",
    "axl[0].set_xlim([-1.5,1.5])\n",
    "\n",
    "axl[1].hist(bins_510[:-1], bins_510,weights=hist_510,alpha=0.5, color='navy',label='CNN predictions')\n",
    "axl[1].hist(bins_510[:-1], binsPF_510,weights=histPF_510,alpha=0.5, color='g',label='Pflow predictions')\n",
    "axl[1].legend(loc='upper right',fontsize=10)\n",
    "axl[1].set_xlim([-1.5,1.5])\n",
    "\n",
    "\n",
    "axl[2].hist(bins_1015[:-1], bins_1015,weights=hist_1015,alpha=0.5, color='navy',label='CNN predictions')\n",
    "axl[2].hist(bins_1015[:-1], binsPF_1015,weights=histPF_1015,alpha=0.5, color='g',label='Pflow predictions')\n",
    "axl[2].legend(loc='upper right',fontsize=10)\n",
    "axl[2].set_xlim([-1.5,1.5])\n",
    "\n",
    "\n",
    "axl[3].hist(bins_1520[:-1], bins_1520,weights=hist_1520,alpha=0.5, color='navy',label='CNN predictions')\n",
    "axl[3].hist(bins_1520[:-1], binsPF_1520,weights=histPF_1520,alpha=0.5, color='g',label='Pflow predictions')\n",
    "axl[3].legend(loc='upper right',fontsize=10)\n",
    "axl[3].set_xlim([-1.5,1.5])\n",
    "\n",
    "\n",
    "axl[0].set(xlabel='Relative Residuals', ylabel='Events')\n",
    "axl[1].set(xlabel='Relative Residuals', ylabel='')\n",
    "axl[2].set(xlabel='Relative Residuals', ylabel='')\n",
    "axl[3].set(xlabel='Relative Residuals', ylabel='')\n",
    "\n",
    "\n",
    "axl[0].set_title(\"2-5 GeV\")\n",
    "axl[1].set_title(\"5-10 GeV\")\n",
    "axl[2].set_title(\"10-15 GeV\")\n",
    "axl[3].set_title(\"15-20 GeV\")\n",
    "\n",
    "plt.tight_layout()\n",
    "plt.show()\n",
    "fig.savefig(\"figure_energyPaper.pdf\", bbox_inches='tight')"
   ]
  },
  {
   "cell_type": "code",
   "execution_count": 48,
   "metadata": {
    "collapsed": false,
    "scrolled": false
   },
   "outputs": [
    {
     "ename": "NameError",
     "evalue": "name 'bins' is not defined",
     "output_type": "error",
     "traceback": [
      "\u001b[0;31m---------------------------------------------------------------------------\u001b[0m",
      "\u001b[0;31mNameError\u001b[0m                                 Traceback (most recent call last)",
      "\u001b[0;32m<ipython-input-48-3aae8f77090e>\u001b[0m in \u001b[0;36m<module>\u001b[0;34m()\u001b[0m\n\u001b[1;32m      1\u001b[0m \u001b[0mfig\u001b[0m \u001b[0;34m=\u001b[0m \u001b[0mplt\u001b[0m\u001b[0;34m.\u001b[0m\u001b[0mfigure\u001b[0m\u001b[0;34m(\u001b[0m\u001b[0mfigsize\u001b[0m\u001b[0;34m=\u001b[0m\u001b[0;34m(\u001b[0m\u001b[0;36m8\u001b[0m\u001b[0;34m,\u001b[0m\u001b[0;36m5\u001b[0m\u001b[0;34m)\u001b[0m\u001b[0;34m)\u001b[0m\u001b[0;34m\u001b[0m\u001b[0m\n\u001b[0;32m----> 2\u001b[0;31m \u001b[0mplt\u001b[0m\u001b[0;34m.\u001b[0m\u001b[0mhist\u001b[0m\u001b[0;34m(\u001b[0m\u001b[0mbins\u001b[0m\u001b[0;34m[\u001b[0m\u001b[0;34m:\u001b[0m\u001b[0;34m-\u001b[0m\u001b[0;36m1\u001b[0m\u001b[0;34m]\u001b[0m\u001b[0;34m,\u001b[0m \u001b[0mbins\u001b[0m\u001b[0;34m,\u001b[0m\u001b[0mweights\u001b[0m\u001b[0;34m=\u001b[0m\u001b[0mhist_E\u001b[0m\u001b[0;34m,\u001b[0m\u001b[0malpha\u001b[0m\u001b[0;34m=\u001b[0m\u001b[0;36m0.5\u001b[0m\u001b[0;34m,\u001b[0m \u001b[0mcolor\u001b[0m\u001b[0;34m=\u001b[0m\u001b[0;34m'navy'\u001b[0m\u001b[0;34m,\u001b[0m\u001b[0mlabel\u001b[0m\u001b[0;34m=\u001b[0m\u001b[0;34m'CNN predictions'\u001b[0m\u001b[0;34m)\u001b[0m\u001b[0;34m\u001b[0m\u001b[0m\n\u001b[0m\u001b[1;32m      3\u001b[0m \u001b[0mplt\u001b[0m\u001b[0;34m.\u001b[0m\u001b[0mhist\u001b[0m\u001b[0;34m(\u001b[0m\u001b[0mbins\u001b[0m\u001b[0;34m[\u001b[0m\u001b[0;34m:\u001b[0m\u001b[0;34m-\u001b[0m\u001b[0;36m1\u001b[0m\u001b[0;34m]\u001b[0m\u001b[0;34m,\u001b[0m \u001b[0mbins\u001b[0m\u001b[0;34m,\u001b[0m\u001b[0mweights\u001b[0m\u001b[0;34m=\u001b[0m\u001b[0mhist_PF\u001b[0m\u001b[0;34m,\u001b[0m\u001b[0malpha\u001b[0m\u001b[0;34m=\u001b[0m\u001b[0;36m0.5\u001b[0m\u001b[0;34m,\u001b[0m \u001b[0mcolor\u001b[0m\u001b[0;34m=\u001b[0m\u001b[0;34m'g'\u001b[0m\u001b[0;34m,\u001b[0m\u001b[0mlabel\u001b[0m\u001b[0;34m=\u001b[0m\u001b[0;34m'Pflow predictions'\u001b[0m\u001b[0;34m)\u001b[0m\u001b[0;34m\u001b[0m\u001b[0m\n\u001b[1;32m      4\u001b[0m \u001b[0;34m\u001b[0m\u001b[0m\n\u001b[1;32m      5\u001b[0m \u001b[0;31m# plt.yscale('log')\u001b[0m\u001b[0;34m\u001b[0m\u001b[0;34m\u001b[0m\u001b[0m\n",
      "\u001b[0;31mNameError\u001b[0m: name 'bins' is not defined"
     ]
    }
   ],
   "source": [
    "fig = plt.figure(figsize=(8,5))\n",
    "plt.hist(bins[:-1], bins,weights=hist_E,alpha=0.5, color='navy',label='CNN predictions')\n",
    "plt.hist(bins[:-1], bins,weights=hist_PF,alpha=0.5, color='g',label='Pflow predictions')\n",
    "\n",
    "# plt.yscale('log')\n",
    "plt.xlim(-1.5, 1.5)\n",
    "#plt.grid(axis='x',color='gray',linestyle='dashed')\n",
    "plt.rc('axes',axisbelow=True)\n",
    "\n",
    "\n",
    "plt.xlabel('Relative energy residuals',fontsize=12)\n",
    "plt.ylabel('Events',fontsize=12)\n",
    "plt.legend(loc='upper right',fontsize=16)\n",
    "plt.show()\n",
    "fig.savefig(\"figure.pdf\", bbox_inches='tight')"
   ]
  },
  {
   "cell_type": "code",
   "execution_count": null,
   "metadata": {
    "collapsed": true
   },
   "outputs": [],
   "source": []
  },
  {
   "cell_type": "code",
   "execution_count": null,
   "metadata": {
    "collapsed": true
   },
   "outputs": [],
   "source": []
  },
  {
   "cell_type": "code",
   "execution_count": null,
   "metadata": {
    "collapsed": true
   },
   "outputs": [],
   "source": []
  },
  {
   "cell_type": "code",
   "execution_count": null,
   "metadata": {
    "collapsed": true
   },
   "outputs": [],
   "source": []
  }
 ],
 "metadata": {
  "kernelspec": {
   "display_name": "Python 3",
   "language": "python",
   "name": "python3"
  },
  "language_info": {
   "codemirror_mode": {
    "name": "ipython",
    "version": 3
   },
   "file_extension": ".py",
   "mimetype": "text/x-python",
   "name": "python",
   "nbconvert_exporter": "python",
   "pygments_lexer": "ipython3",
   "version": "3.4.5"
  }
 },
 "nbformat": 4,
 "nbformat_minor": 2
}
