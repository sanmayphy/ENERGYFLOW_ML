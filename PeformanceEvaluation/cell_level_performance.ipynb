{
 "cells": [
  {
   "cell_type": "code",
   "execution_count": 1,
   "metadata": {},
   "outputs": [],
   "source": [
    "import h5py\n",
    "import numpy as np\n",
    "import matplotlib.pyplot as plt"
   ]
  },
  {
   "cell_type": "markdown",
   "metadata": {},
   "source": [
    "# Cell Level Performance Plots"
   ]
  },
  {
   "cell_type": "code",
   "execution_count": 11,
   "metadata": {},
   "outputs": [],
   "source": [
    "test_file = h5py.File('../data/Outfile_CellInformation.h5','r')"
   ]
  },
  {
   "cell_type": "code",
   "execution_count": 16,
   "metadata": {},
   "outputs": [
    {
     "data": {
      "text/plain": [
       "1000"
      ]
     },
     "execution_count": 16,
     "metadata": {},
     "output_type": "execute_result"
    }
   ],
   "source": [
    "len(test_file['RealRes_TotalEnergy_Layer1'][:])"
   ]
  },
  {
   "cell_type": "markdown",
   "metadata": {},
   "source": [
    "## Define the list of algorithms we want to compare\n",
    "\n",
    "each file contains the prediction for the test dataset given by that particular algorithm"
   ]
  },
  {
   "cell_type": "code",
   "execution_count": 12,
   "metadata": {},
   "outputs": [],
   "source": [
    "algorithms = [\n",
    "    ['random_guess', 'algorithm_predictions/randomguess_output.h5'],\n",
    "    #['CNN','../data/Outfile_CellInformation.h5']\n",
    "    #'your algorithm', 'path to your prediction'\n",
    "]"
   ]
  },
  {
   "cell_type": "markdown",
   "metadata": {},
   "source": [
    "## Extract the target values from the test dataset"
   ]
  },
  {
   "cell_type": "code",
   "execution_count": 23,
   "metadata": {},
   "outputs": [],
   "source": [
    "target_fractions = {}\n",
    "target_neutral_energies = {}\n",
    "\n",
    "for layer_i in range(6):\n",
    "    total_energy = test_file['RealRes_TotalEnergy_Layer'+str(layer_i+1)][:].flatten()\n",
    "    total_energy[total_energy < 0] = 0\n",
    "    neutral_energy = test_file['RealRes_NeutralEnergy_Layer'+str(layer_i+1)][:].flatten()\n",
    "    neutral_energy[neutral_energy > total_energy] = 0\n",
    "    target_fractions[layer_i+1] = np.zeros(len(neutral_energy))\n",
    "    target_fractions[layer_i+1][total_energy > 0] = neutral_energy[total_energy > 0]/total_energy[total_energy > 0]\n",
    "    target_neutral_energies[layer_i+1] = neutral_energy"
   ]
  },
  {
   "cell_type": "markdown",
   "metadata": {},
   "source": [
    "## Get the predicted values for each algorithm"
   ]
  },
  {
   "cell_type": "code",
   "execution_count": 43,
   "metadata": {},
   "outputs": [
    {
     "name": "stdout",
     "output_type": "stream",
     "text": [
      "algorithm_predictions/randomguess_output.h5\n"
     ]
    }
   ],
   "source": [
    "algo_predictions = {}\n",
    "\n",
    "for alg in algorithms:\n",
    "    print(alg[1])\n",
    "    algfile = h5py.File(alg[1],'r')\n",
    "    \n",
    "    algo_predictions[alg[0]] = {}\n",
    "    for layer_i in range(6):\n",
    "        total_energy = test_file['RealRes_TotalEnergy_Layer'+str(layer_i+1)][:].flatten()\n",
    "        total_energy[total_energy < 0] = 0\n",
    "        \n",
    "        \n",
    "        neutral_energy = algfile['Predicted_NeutralEnergy_Layer'+str(layer_i+1)][:].flatten()\n",
    "        \n",
    "        \n",
    "        algo_predictions[alg[0]][layer_i+1] = np.zeros(len(neutral_energy))\n",
    "        algo_predictions[alg[0]][layer_i+1][total_energy > 0] = neutral_energy[total_energy > 0]/total_energy[total_energy > 0]\n",
    "        \n",
    "        \n",
    "        \n",
    "    algfile.close()"
   ]
  },
  {
   "cell_type": "markdown",
   "metadata": {},
   "source": [
    "# Plot the target vs. predicted"
   ]
  },
  {
   "cell_type": "code",
   "execution_count": 44,
   "metadata": {},
   "outputs": [
    {
     "data": {
      "image/png": "[encoded data removed]",
      "text/plain": [
       "<Figure size 864x576 with 6 Axes>"
      ]
     },
     "metadata": {
      "needs_background": "light"
     },
     "output_type": "display_data"
    }
   ],
   "source": [
    "fig, ax = plt.subplots(2,3,figsize=(12,8))\n",
    "\n",
    "for layer_i in range(6):\n",
    "    \n",
    "    ax_i = ax[int(layer_i % 2)][int(layer_i / 2)]\n",
    "    ax_i.set_title('Layer '+str(layer_i+1),fontsize=20)\n",
    "    target_frac = target_fractions[layer_i+1]\n",
    "    total_energy = test_file['RealRes_TotalEnergy_Layer'+str(layer_i+1)][:].flatten()\n",
    "    \n",
    "    energy_threshold = 50\n",
    "    for alg in algorithms:\n",
    "        pred_fractions =  algo_predictions[alg[0]][layer_i+1]\n",
    "        \n",
    "        #ax_i.hist( (target_frac-pred_fractions)[total_energy > energy_threshold],\n",
    "        #          bins=np.linspace(-1.1,1.1,20),histtype='step',label=alg[0])\n",
    "        \n",
    "        n_points = len(target_frac)\n",
    "        rand_points = np.random.permutation(range(n_points))[:500]\n",
    "        ax_i.scatter(target_frac[rand_points],pred_fractions[rand_points],label=alg[0])\n",
    "        \n",
    "    ax_i.legend()\n",
    "\n",
    "plt.show()"
   ]
  },
  {
   "cell_type": "code",
   "execution_count": null,
   "metadata": {},
   "outputs": [],
   "source": []
  }
 ],
 "metadata": {
  "kernelspec": {
   "display_name": "Python 3",
   "language": "python",
   "name": "python3"
  },
  "language_info": {
   "codemirror_mode": {
    "name": "ipython",
    "version": 3
   },
   "file_extension": ".py",
   "mimetype": "text/x-python",
   "name": "python",
   "nbconvert_exporter": "python",
   "pygments_lexer": "ipython3",
   "version": "3.7.3"
  }
 },
 "nbformat": 4,
 "nbformat_minor": 2
}
