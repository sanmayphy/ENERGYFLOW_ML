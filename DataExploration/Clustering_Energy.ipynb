{
 "cells": [
  {
   "cell_type": "code",
   "execution_count": 1,
   "metadata": {},
   "outputs": [],
   "source": [
    "import h5py\n",
    "import matplotlib.pyplot as plt\n",
    "import numpy as np"
   ]
  },
  {
   "cell_type": "code",
   "execution_count": 2,
   "metadata": {},
   "outputs": [],
   "source": [
    "f = h5py.File('../Outfile_CellInformation_HomDet_2to5GeV.h5','r')"
   ]
  },
  {
   "cell_type": "code",
   "execution_count": 3,
   "metadata": {
    "scrolled": true
   },
   "outputs": [],
   "source": [
    "gT = h5py.File('../DATA_PROCESSING/Outfile_TopoClusterTotal.h5','r')\n",
    "gTA = h5py.File('../DATA_PROCESSING/Outfile_TopoClusterTotalAtl.h5','r')"
   ]
  },
  {
   "cell_type": "code",
   "execution_count": 4,
   "metadata": {},
   "outputs": [],
   "source": [
    "#Compute total energy in the event\n",
    "def En_Eve(fi,ev, types):   \n",
    "    En = 0\n",
    "    EnL = 0\n",
    "    for i in range(1,7):\n",
    "        Lay_En = fi['RealRes_'+str(types)+'Energy_Layer'+str(i)][ev][0]\n",
    "            \n",
    "        if(i==1 or i==3):\n",
    "            size=32\n",
    "        elif(i==4 or i ==5):\n",
    "            size=16\n",
    "        elif(i==2): \n",
    "            size=64\n",
    "        elif(i==6):\n",
    "            size = 8    \n",
    "        Lay_En=np.array(Lay_En[0:size,0:size])\n",
    "        EnL=np.sum(Lay_En)\n",
    "        #print(EnL,i)\n",
    "        En = En+EnL      \n",
    "    return En\n",
    "\n",
    "#compute the energy in each topo per event\n",
    "def En_Topo(gi, fi, types, ev):\n",
    "    En = 0\n",
    "    EnL = 0\n",
    "    EnTopo = []\n",
    "    for i in range(1,7):\n",
    "        Topo = gi['TopoClusters'+str(i)][ev][0]\n",
    "        Calo = fi['RealRes_'+str(types)+'Energy_Layer'+str(i)][ev][0]\n",
    "            \n",
    "        if(i==1 or i==3):\n",
    "            size=32\n",
    "        elif(i==4 or i ==5):\n",
    "            size=16\n",
    "        elif(i==2): \n",
    "            size=64\n",
    "        elif(i==6):\n",
    "            size = 8    \n",
    "            \n",
    "        TopoA=np.array(Topo[0:size,0:size])\n",
    "        CaloA=np.array(Calo[0:size,0:size])\n",
    "\n",
    "        for X in range(len(TopoA)):\n",
    "            for Y in range(len(TopoA)): \n",
    "                TopoI=int(TopoA[X][Y])\n",
    "                if TopoI!=0:\n",
    "                    #print(X, Y, \"En=\",Calo[X][Y],'Topo N =', TopoI, 'layer =', i)\n",
    "                    if len(EnTopo)<TopoI: EnTopo.append(Calo[X][Y])\n",
    "                    else: EnTopo[TopoI-1]=EnTopo[TopoI-1]+CaloA[X][Y]     \n",
    "    return EnTopo\n",
    "\n",
    "\n"
   ]
  },
  {
   "cell_type": "code",
   "execution_count": 5,
   "metadata": {},
   "outputs": [],
   "source": [
    "#count numb cells in topoclust\n",
    "def Count_Cells(gi, j):\n",
    "    Counter = []\n",
    "    for i in range(1,7):\n",
    "        Topo = gi['TopoClusters'+str(i)][j][0]\n",
    "\n",
    "        #Size of layers not well defined in tools_generic.py\n",
    "        #resetting of sizes\n",
    "        if(i==1 or i==3):\n",
    "            size=32\n",
    "        elif(i==4 or i ==5):\n",
    "            size=16\n",
    "        elif(i==2): \n",
    "            size=64\n",
    "        elif(i==6):\n",
    "            size = 8    \n",
    "\n",
    "        TopoA=np.array(Topo[0:size,0:size])\n",
    "\n",
    "        #print(len(TopoA)\n",
    "        for X in range(len(TopoA)):\n",
    "            for Y in range(len(TopoA)): \n",
    "                TopoI=int(TopoA[X][Y])\n",
    "                if TopoI!=0:\n",
    "                    #print(TopoA[X][Y], Counter, X, Y)\n",
    "                    if len(Counter)<TopoI: Counter.append(1)\n",
    "                    else: Counter[TopoI-1]=Counter[TopoI-1]+1\n",
    "\n",
    "    return np.array(Counter)"
   ]
  },
  {
   "cell_type": "code",
   "execution_count": 7,
   "metadata": {},
   "outputs": [
    {
     "name": "stdout",
     "output_type": "stream",
     "text": [
      "loop\n",
      "Still looping, Ev =  100\n",
      "Still looping, Ev =  200\n",
      "Still looping, Ev =  300\n",
      "Still looping, Ev =  400\n",
      "Still looping, Ev =  500\n",
      "Still looping, Ev =  600\n",
      "Still looping, Ev =  700\n",
      "Still looping, Ev =  800\n",
      "Still looping, Ev =  900\n",
      "Still looping, Ev =  1000\n"
     ]
    }
   ],
   "source": [
    "#print(En_Topo(g,0, 'Charged'))\n",
    "#print(En_Topo(g,0,'Neutral'))\n",
    "events=len(gT['TopoClusters1'])\n",
    "Rho_Clus_P=[]\n",
    "Rho_Clus_N=[]\n",
    "N_Cell=[]\n",
    "\n",
    "print(\"loop\")\n",
    "for ev in range(events):\n",
    "    if (ev+1)%100==0: print(\"Still looping, Ev = \", ev+1)\n",
    "    \n",
    "    Charged_Topo=En_Topo(gT,f,'Charged', ev) \n",
    "    Neutral_Topo=En_Topo(gT,f,'Neutral', ev) \n",
    "    Total_Topo=En_Topo(gT,f,'Total',ev)\n",
    "    \n",
    "    Count_Cell=Count_Cells(gT, ev)\n",
    "    i=0\n",
    "    #j=-10\n",
    "    while i<len(Total_Topo): \n",
    "        Rho_Clus_P.append(Charged_Topo[i]/Total_Topo[i] )\n",
    "        Rho_Clus_N.append(Neutral_Topo[i]/Total_Topo[i] )\n",
    "        \n",
    "        N_Cell.append(Count_Cell[i])\n",
    "        i+=1\n",
    "        \n",
    "#print(N_Topo40/k, k)\n",
    "    "
   ]
  },
  {
   "cell_type": "code",
   "execution_count": 8,
   "metadata": {},
   "outputs": [
    {
     "name": "stdout",
     "output_type": "stream",
     "text": [
      "loop\n",
      "Still looping, Ev =  1000\n"
     ]
    }
   ],
   "source": [
    "events=len(gTA['TopoClusters1'])\n",
    "Rho_Clus_PA=[]\n",
    "Rho_Clus_NA=[]\n",
    "N_CellA=[]\n",
    "\n",
    "print(\"loop\")\n",
    "for ev in range(events):\n",
    "    if (ev+1)%1000==0: print(\"Still looping, Ev = \", ev+1)\n",
    "    \n",
    "    Charged_Topo=En_Topo(gTA,f,'Charged', ev) \n",
    "    Neutral_Topo=En_Topo(gTA,f,'Neutral', ev) \n",
    "    Total_Topo=En_Topo(gTA,f,'Total',ev)\n",
    "    \n",
    "    Count_Cell=Count_Cells(gTA, ev)\n",
    "    i=0\n",
    "    #j=-10\n",
    "    while i<len(Total_Topo): \n",
    "        Rho_Clus_PA.append(Charged_Topo[i]/Total_Topo[i] )\n",
    "        Rho_Clus_NA.append(Neutral_Topo[i]/Total_Topo[i] )\n",
    "        \n",
    "        N_CellA.append(Count_Cell[i])\n",
    "        i+=1\n",
    "\n"
   ]
  },
  {
   "cell_type": "code",
   "execution_count": 23,
   "metadata": {},
   "outputs": [
    {
     "data": {
      "text/plain": [
       "<Figure size 432x288 with 0 Axes>"
      ]
     },
     "metadata": {},
     "output_type": "display_data"
    },
    {
     "data": {
      "image/png": "[encoded data removed]",
      "text/plain": [
       "<Figure size 1152x648 with 2 Axes>"
      ]
     },
     "metadata": {
      "needs_background": "light"
     },
     "output_type": "display_data"
    }
   ],
   "source": [
    "import matplotlib as mpl\n",
    "import matplotlib.colors as colors\n",
    "\n",
    "\n",
    "fig2 = plt.figure()\n",
    "ax = plt.subplots(figsize=(16,9))\n",
    "\n",
    "plt.hist2d(Rho_Clus_PA, N_CellA,bins=(50,35), norm=mpl.colors.LogNorm())\n",
    "plt.xlabel('Rho Clus', fontsize=20)\n",
    "plt.ylabel('N Cells', fontsize=20)\n",
    "plt.title(\"Charged fraction and number of cells distribution - 1N\", fontsize=20)\n",
    "plt.xlim(0 ,1)\n",
    "plt.ylim(7,150)\n",
    "\n",
    "\n",
    "cbar = plt.colorbar()\n",
    "cbar.ax.set_ylabel('Counts',  fontsize=20)\n",
    "\n",
    "plt.savefig(\"Rho_Cell_Charged - 2N.png\")"
   ]
  },
  {
   "cell_type": "code",
   "execution_count": 43,
   "metadata": {},
   "outputs": [
    {
     "data": {
      "image/png": "[encoded data removed]",
      "text/plain": [
       "<Figure size 1152x648 with 1 Axes>"
      ]
     },
     "metadata": {
      "needs_background": "light"
     },
     "output_type": "display_data"
    }
   ],
   "source": [
    "bins = list(np.array(range(0,50))/50)\n",
    "#tick= bins[:-1]+np.ones(len(bins))[1:]/2\n",
    "\n",
    "hist, bins = np.histogram(Rho_Clus_N, bins=bins )\n",
    "width = np.diff(bins)\n",
    "center = (bins[:-1] + bins[1:]) / 2\n",
    "\n",
    "fig, ax = plt.subplots(figsize=(16,9))\n",
    "ax.bar(center, hist, align='center', width=width)\n",
    "#ax.set_xticks(tick)\n",
    "ax.set_xlabel(\"Rho_Clus\", fontsize=20)\n",
    "ax.set_ylabel(\"N. of events\", fontsize=20)\n",
    "ax.set_title(\"Neutral energy fraction per cluster distribution - 1N\", fontsize=20)\n",
    "plt.yscale('log')\n",
    "plt.ylim(20, 400)\n",
    "\n",
    "#saving set\n",
    "plt.savefig(\"Rho_Clus_Neutral - 1N.png\")\n",
    "plt.show()"
   ]
  },
  {
   "cell_type": "code",
   "execution_count": null,
   "metadata": {},
   "outputs": [],
   "source": []
  }
 ],
 "metadata": {
  "kernelspec": {
   "display_name": "Python 3",
   "language": "python",
   "name": "python3"
  },
  "language_info": {
   "codemirror_mode": {
    "name": "ipython",
    "version": 3
   },
   "file_extension": ".py",
   "mimetype": "text/x-python",
   "name": "python",
   "nbconvert_exporter": "python",
   "pygments_lexer": "ipython3",
   "version": "3.7.3"
  }
 },
 "nbformat": 4,
 "nbformat_minor": 2
}
